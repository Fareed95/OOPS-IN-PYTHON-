{
 "cells": [
  {
   "cell_type": "markdown",
   "id": "4f2c71ba-9de8-4cbc-a871-ee5512ff3778",
   "metadata": {},
   "source": [
    "<h1> OOPS IN PYTHON </h1>"
   ]
  },
  {
   "cell_type": "markdown",
   "id": "6af15fb8-c829-48fa-bf2d-7fe050fa27d8",
   "metadata": {},
   "source": [
    "THERE ARE TWO PARTS IN OOPS :"
   ]
  },
  {
   "cell_type": "markdown",
   "id": "a6e87c64-44c0-48e7-a10a-64be3707afd3",
   "metadata": {},
   "source": [
    "1. CLASS "
   ]
  },
  {
   "cell_type": "markdown",
   "id": "56c6bff3-4137-423d-b6c6-ea981c813a73",
   "metadata": {},
   "source": [
    "2. OBJECT\n",
    "   "
   ]
  },
  {
   "cell_type": "code",
   "execution_count": 9,
   "id": "97c81601-3026-493c-a7b8-8eb3c7bd96c1",
   "metadata": {},
   "outputs": [],
   "source": [
    "#TO DEFINE CLASS "
   ]
  },
  {
   "cell_type": "code",
   "execution_count": 10,
   "id": "3c22b5b0-a18e-4c8d-acb0-0d64a599c688",
   "metadata": {},
   "outputs": [],
   "source": [
    "class Employee :\n",
    "    name = 'Fareed'\n",
    "    language = 'python'\n",
    "    salary = 120000000"
   ]
  },
  {
   "cell_type": "code",
   "execution_count": 11,
   "id": "c334c32b-bfe2-4792-ba8d-3806b4c1f74c",
   "metadata": {},
   "outputs": [],
   "source": [
    "# to define object\n"
   ]
  },
  {
   "cell_type": "code",
   "execution_count": 12,
   "id": "8ca98516-ba94-4b8a-82b9-ccea7196f82c",
   "metadata": {},
   "outputs": [
    {
     "name": "stdout",
     "output_type": "stream",
     "text": [
      "Fareed\n"
     ]
    }
   ],
   "source": [
    "fareed = Employee()\n",
    "print(fareed.name)\n"
   ]
  },
  {
   "cell_type": "code",
   "execution_count": 13,
   "id": "019e5dfd-8609-4ef6-a770-b98dab94fbc9",
   "metadata": {},
   "outputs": [
    {
     "name": "stdout",
     "output_type": "stream",
     "text": [
      "python Fareed\n"
     ]
    }
   ],
   "source": [
    "var = Employee()\n",
    "print(f' language :{var.language} name : {var.name}')"
   ]
  },
  {
   "cell_type": "code",
   "execution_count": null,
   "id": "580f6aed-734f-4163-99bf-be99788d01ca",
   "metadata": {},
   "outputs": [],
   "source": []
  }
 ],
 "metadata": {
  "kernelspec": {
   "display_name": "Python 3 (ipykernel)",
   "language": "python",
   "name": "python3"
  },
  "language_info": {
   "codemirror_mode": {
    "name": "ipython",
    "version": 3
   },
   "file_extension": ".py",
   "mimetype": "text/x-python",
   "name": "python",
   "nbconvert_exporter": "python",
   "pygments_lexer": "ipython3",
   "version": "3.11.4"
  }
 },
 "nbformat": 4,
 "nbformat_minor": 5
}
