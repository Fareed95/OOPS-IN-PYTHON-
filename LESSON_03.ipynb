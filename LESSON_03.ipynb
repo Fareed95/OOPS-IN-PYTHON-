{
 "cells": [
  {
   "cell_type": "markdown",
   "metadata": {},
   "source": [
    "<h1> LESSON 3 : CONSTRUCTOR</h3>"
   ]
  },
  {
   "cell_type": "markdown",
   "metadata": {
    "vscode": {
     "languageId": "plaintext"
    }
   },
   "source": [
    "<h3> THE FUNCTIONS STARTING FROM '__' is Called <b> DUNDER </d> Method in Python... </h3>"
   ]
  },
  {
   "cell_type": "code",
   "execution_count": 16,
   "metadata": {},
   "outputs": [],
   "source": [
    "class Employee :\n",
    "    name = 'Fareed'\n",
    "    language = 'python'\n",
    "    salary = 120000000\n",
    "   \n",
    "    def greet(self):\n",
    "        print(f\"good morning sir {self.name}\")\n",
    "    def __init__(self):\n",
    "        print(\"HEY THIS IS DUNDER METHOD AND THIS ALWAYS PRINT\")\n",
    "\n"
   ]
  },
  {
   "cell_type": "code",
   "execution_count": 17,
   "metadata": {},
   "outputs": [
    {
     "name": "stdout",
     "output_type": "stream",
     "text": [
      "HEY THIS IS DUNDER METHOD AND THIS ALWAYS PRINT\n",
      "good morning sir fareed\n"
     ]
    }
   ],
   "source": [
    "fareed = Employee()\n",
    "fareed.name = 'fareed'\n",
    "fareed.greet()\n"
   ]
  },
  {
   "cell_type": "code",
   "execution_count": 31,
   "metadata": {},
   "outputs": [],
   "source": [
    "class EMPLOTYEES:\n",
    "    name = 'name'\n",
    "    age = 0\n",
    "    salary = 0\n",
    "    def __init__(self, name ,age, salary ):\n",
    "        self.name = name \n",
    "        self.age = age \n",
    "        self.salary = salary\n",
    "    def get_info(self):\n",
    "        print(f\"Emploayee name {self.name} age {self.age} has his salary {self.salary}\")"
   ]
  },
  {
   "cell_type": "code",
   "execution_count": 32,
   "metadata": {},
   "outputs": [
    {
     "name": "stdout",
     "output_type": "stream",
     "text": [
      "Emploayee name fareed age 12 has his salary 1200\n"
     ]
    }
   ],
   "source": [
    "fareed = EMPLOTYEES('fareed',12,1200)\n",
    "fareed.get_info()"
   ]
  }
 ],
 "metadata": {
  "kernelspec": {
   "display_name": "Python 3",
   "language": "python",
   "name": "python3"
  },
  "language_info": {
   "codemirror_mode": {
    "name": "ipython",
    "version": 3
   },
   "file_extension": ".py",
   "mimetype": "text/x-python",
   "name": "python",
   "nbconvert_exporter": "python",
   "pygments_lexer": "ipython3",
   "version": "3.11.4"
  }
 },
 "nbformat": 4,
 "nbformat_minor": 2
}
