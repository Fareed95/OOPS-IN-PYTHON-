{
 "cells": [
  {
   "cell_type": "markdown",
   "metadata": {},
   "source": [
    "<h1> LESSON 2 : SELF PARAMETER </h1>\n"
   ]
  },
  {
   "cell_type": "code",
   "execution_count": 11,
   "metadata": {},
   "outputs": [],
   "source": [
    "class Employee :\n",
    "    name = 'Fareed'\n",
    "    language = 'python'\n",
    "    salary = 120000000\n",
    "\n",
    "    #now creating a function here \n",
    "    def getinfo():\n",
    "        print(f'The language is {language}, and the salary is {salary}')"
   ]
  },
  {
   "cell_type": "markdown",
   "metadata": {},
   "source": [
    "ERROR DISPLAY\n"
   ]
  },
  {
   "cell_type": "code",
   "execution_count": 12,
   "metadata": {},
   "outputs": [
    {
     "ename": "TypeError",
     "evalue": "Employee.getinfo() takes 0 positional arguments but 1 was given",
     "output_type": "error",
     "traceback": [
      "\u001b[1;31m---------------------------------------------------------------------------\u001b[0m",
      "\u001b[1;31mTypeError\u001b[0m                                 Traceback (most recent call last)",
      "Cell \u001b[1;32mIn[12], line 2\u001b[0m\n\u001b[0;32m      1\u001b[0m new \u001b[38;5;241m=\u001b[39m Employee()\n\u001b[1;32m----> 2\u001b[0m \u001b[43mnew\u001b[49m\u001b[38;5;241;43m.\u001b[39;49m\u001b[43mgetinfo\u001b[49m\u001b[43m(\u001b[49m\u001b[43m)\u001b[49m\n",
      "\u001b[1;31mTypeError\u001b[0m: Employee.getinfo() takes 0 positional arguments but 1 was given"
     ]
    }
   ],
   "source": [
    "new = Employee()\n",
    "new.getinfo()"
   ]
  },
  {
   "cell_type": "markdown",
   "metadata": {},
   "source": [
    "THIS IS BECAUSE IT IS TAKING AS \n",
    "Employee.getinfo(new)\n"
   ]
  },
  {
   "cell_type": "code",
   "execution_count": 14,
   "metadata": {},
   "outputs": [],
   "source": [
    "#this is the correct one because here we had given a self parameter \n",
    "class Employees :\n",
    "    name = 'Fareed'\n",
    "    language = 'python'\n",
    "    salary = 120000000\n",
    "\n",
    "    #now creating a function here \n",
    "    def getinfo(self):\n",
    "        print(f'The language is {self.language}, and the salary is {self.salary}')\n",
    "\n",
    "    @staticmethod\n",
    "    def greet():\n",
    "        print(\"GOOD MORNING\")"
   ]
  },
  {
   "cell_type": "code",
   "execution_count": 16,
   "metadata": {},
   "outputs": [
    {
     "name": "stdout",
     "output_type": "stream",
     "text": [
      "The language is python, and the salary is 120000000\n"
     ]
    }
   ],
   "source": [
    "new = Employees()\n",
    "new.getinfo()"
   ]
  }
 ],
 "metadata": {
  "kernelspec": {
   "display_name": "Python 3",
   "language": "python",
   "name": "python3"
  },
  "language_info": {
   "codemirror_mode": {
    "name": "ipython",
    "version": 3
   },
   "file_extension": ".py",
   "mimetype": "text/x-python",
   "name": "python",
   "nbconvert_exporter": "python",
   "pygments_lexer": "ipython3",
   "version": "3.11.4"
  }
 },
 "nbformat": 4,
 "nbformat_minor": 2
}
