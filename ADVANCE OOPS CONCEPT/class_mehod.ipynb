{
 "cells": [
  {
   "cell_type": "markdown",
   "metadata": {},
   "source": [
    "<h1>WHY TO USE CLASS METHOD </h1>"
   ]
  },
  {
   "cell_type": "markdown",
   "metadata": {},
   "source": [
    "<h3> -----> EVERY TIME INSTANCE ATTRIBUTE GETS PRORITY OOVER CLASS ATTRIBUTES ... SO TO AVOID IT WE USE CLASS ATTRIBUTES </h3>"
   ]
  },
  {
   "cell_type": "code",
   "execution_count": 10,
   "metadata": {},
   "outputs": [
    {
     "name": "stdout",
     "output_type": "stream",
     "text": [
      "The name of the employee is Harry\n"
     ]
    }
   ],
   "source": [
    "class Employee:\n",
    "    name = \"Fareed\"\n",
    "    def show(self):\n",
    "        print(f\"The name of the employee is {self.name}\")\n",
    "\n",
    "harry = Employee()\n",
    "harry.name = \"Harry\"\n",
    "harry.show()"
   ]
  },
  {
   "cell_type": "markdown",
   "metadata": {},
   "source": [
    "<H3>IN THE ABOVE EXAMPLE YOU CAN SEE .. INSTANCE ATTRIBUTES GETS PRIORIY ... SO TO AVOID THIS </H3  >"
   ]
  },
  {
   "cell_type": "code",
   "execution_count": 11,
   "metadata": {},
   "outputs": [
    {
     "name": "stdout",
     "output_type": "stream",
     "text": [
      "The name of the employee is Fareed\n"
     ]
    }
   ],
   "source": [
    "class Employees:\n",
    "    name = \"Fareed\"\n",
    "    @classmethod\n",
    "    def show(cls):\n",
    "        print(f\"The name of the employee is {cls.name}\")\n",
    "\n",
    "harry = Employees()\n",
    "harry.name = \"Harry\"\n",
    "harry.show()"
   ]
  }
 ],
 "metadata": {
  "kernelspec": {
   "display_name": "Python 3",
   "language": "python",
   "name": "python3"
  },
  "language_info": {
   "codemirror_mode": {
    "name": "ipython",
    "version": 3
   },
   "file_extension": ".py",
   "mimetype": "text/x-python",
   "name": "python",
   "nbconvert_exporter": "python",
   "pygments_lexer": "ipython3",
   "version": "3.11.4"
  }
 },
 "nbformat": 4,
 "nbformat_minor": 2
}
