{
 "cells": [
  {
   "cell_type": "code",
   "execution_count": 1,
   "metadata": {},
   "outputs": [
    {
     "name": "stdout",
     "output_type": "stream",
     "text": [
      "20000\n",
      "24000\n",
      "4000\n"
     ]
    },
    {
     "ename": "AttributeError",
     "evalue": "'Employee' object has no attribute '_fname'",
     "output_type": "error",
     "traceback": [
      "\u001b[1;31m---------------------------------------------------------------------------\u001b[0m",
      "\u001b[1;31mAttributeError\u001b[0m                            Traceback (most recent call last)",
      "Cell \u001b[1;32mIn[1], line 33\u001b[0m\n\u001b[0;32m     31\u001b[0m \u001b[38;5;66;03m# print(rahul.name)\u001b[39;00m\n\u001b[0;32m     32\u001b[0m rahul\u001b[38;5;241m.\u001b[39mname \u001b[38;5;241m=\u001b[39m \u001b[38;5;124m\"\u001b[39m\u001b[38;5;124mRahul Singh\u001b[39m\u001b[38;5;124m\"\u001b[39m\n\u001b[1;32m---> 33\u001b[0m \u001b[38;5;28mprint\u001b[39m(\u001b[43mrahul\u001b[49m\u001b[38;5;241;43m.\u001b[39;49m\u001b[43mname\u001b[49m)\n",
      "Cell \u001b[1;32mIn[1], line 16\u001b[0m, in \u001b[0;36mEmployee.name\u001b[1;34m(self)\u001b[0m\n\u001b[0;32m     14\u001b[0m \u001b[38;5;129m@property\u001b[39m \n\u001b[0;32m     15\u001b[0m \u001b[38;5;28;01mdef\u001b[39;00m \u001b[38;5;21mname\u001b[39m(\u001b[38;5;28mself\u001b[39m):\n\u001b[1;32m---> 16\u001b[0m     \u001b[38;5;28;01mreturn\u001b[39;00m \u001b[38;5;124mf\u001b[39m\u001b[38;5;124m\"\u001b[39m\u001b[38;5;124mthe first name is \u001b[39m\u001b[38;5;132;01m{\u001b[39;00m\u001b[38;5;28;43mself\u001b[39;49m\u001b[38;5;241;43m.\u001b[39;49m\u001b[43m_fname\u001b[49m\u001b[38;5;132;01m}\u001b[39;00m\u001b[38;5;124m and teh last name is \u001b[39m\u001b[38;5;132;01m{\u001b[39;00m\u001b[38;5;28mself\u001b[39m\u001b[38;5;241m.\u001b[39m_name\u001b[38;5;132;01m}\u001b[39;00m\u001b[38;5;124m\"\u001b[39m\n",
      "\u001b[1;31mAttributeError\u001b[0m: 'Employee' object has no attribute '_fname'"
     ]
    }
   ],
   "source": [
    "class Employee:\n",
    "    name = \"werker\"\n",
    "    salary = 240 \n",
    "    increment = 0\n",
    "\n",
    "    @property\n",
    "    def incremented_salary(self):\n",
    "        return (self.salary + self.increment) \n",
    "\n",
    "    @incremented_salary.setter \n",
    "    def incremented_salary(self ,salary):\n",
    "        self.increment = salary - self.incremented_salary\n",
    "\n",
    "    @property \n",
    "    def name(self):\n",
    "        return f\"the first name is {self._fname} and teh last name is {self._lname}\"\n",
    "    @name.setter \n",
    "    def name(self , value):\n",
    "        self._fname = value.split(\" \")[0]\n",
    "        self._lname = value.split(\" \")[1]\n",
    "\n",
    "\n",
    "rahul = Employee()\n",
    "rahul.salary = 20000\n",
    "print(rahul.salary)\n",
    "rahul.increment = 4000\n",
    "print(rahul.incremented_salary)\n",
    "# rahul.incremented_salary = 30000\n",
    "print(rahul.increment)\n",
    "rahul.name = \"RAHUL \"\n",
    "# print(rahul.name)\n",
    "rahul.name = \"Rahul Singh\"\n",
    "print(rahul.name)"
   ]
  },
  {
   "cell_type": "code",
   "execution_count": null,
   "metadata": {},
   "outputs": [],
   "source": []
  }
 ],
 "metadata": {
  "kernelspec": {
   "display_name": "Python 3",
   "language": "python",
   "name": "python3"
  },
  "language_info": {
   "codemirror_mode": {
    "name": "ipython",
    "version": 3
   },
   "file_extension": ".py",
   "mimetype": "text/x-python",
   "name": "python",
   "nbconvert_exporter": "python",
   "pygments_lexer": "ipython3",
   "version": "3.11.4"
  }
 },
 "nbformat": 4,
 "nbformat_minor": 2
}
