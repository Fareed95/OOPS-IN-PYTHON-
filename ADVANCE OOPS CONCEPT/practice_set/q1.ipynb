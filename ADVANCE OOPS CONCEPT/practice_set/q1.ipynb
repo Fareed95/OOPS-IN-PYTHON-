{
 "cells": [
  {
   "cell_type": "markdown",
   "metadata": {},
   "source": [
    "<H1> CREAT A CLASS (2-D VECTOR) AND USE IT TO CREATE THE ANOTHER CLASS REPRESENTING THE 3D VECTOR "
   ]
  },
  {
   "cell_type": "code",
   "execution_count": 2,
   "metadata": {},
   "outputs": [
    {
     "ename": "NameError",
     "evalue": "name 'k' is not defined",
     "output_type": "error",
     "traceback": [
      "\u001b[1;31m---------------------------------------------------------------------------\u001b[0m",
      "\u001b[1;31mNameError\u001b[0m                                 Traceback (most recent call last)",
      "Cell \u001b[1;32mIn[2], line 16\u001b[0m\n\u001b[0;32m     13\u001b[0m     \u001b[38;5;28;01mdef\u001b[39;00m \u001b[38;5;21mshow\u001b[39m(\u001b[38;5;28mself\u001b[39m):\n\u001b[0;32m     14\u001b[0m         \u001b[38;5;28mprint\u001b[39m(\u001b[38;5;124mf\u001b[39m\u001b[38;5;124m\"\u001b[39m\u001b[38;5;124mThe vector representation are : \u001b[39m\u001b[38;5;132;01m{\u001b[39;00m\u001b[38;5;28mself\u001b[39m\u001b[38;5;241m.\u001b[39mi\u001b[38;5;132;01m}\u001b[39;00m\u001b[38;5;124mi +\u001b[39m\u001b[38;5;132;01m{\u001b[39;00m\u001b[38;5;28mself\u001b[39m\u001b[38;5;241m.\u001b[39mj\u001b[38;5;132;01m}\u001b[39;00m\u001b[38;5;124mj+ \u001b[39m\u001b[38;5;132;01m{\u001b[39;00m\u001b[38;5;28mself\u001b[39m\u001b[38;5;241m.\u001b[39mk\u001b[38;5;132;01m}\u001b[39;00m\u001b[38;5;124mk\u001b[39m\u001b[38;5;124m\"\u001b[39m)\n\u001b[1;32m---> 16\u001b[0m two_d \u001b[38;5;241m=\u001b[39m \u001b[43mtwodvector\u001b[49m\u001b[43m(\u001b[49m\u001b[38;5;241;43m3\u001b[39;49m\u001b[43m,\u001b[49m\u001b[38;5;241;43m4\u001b[39;49m\u001b[43m)\u001b[49m\n\u001b[0;32m     17\u001b[0m two_d\u001b[38;5;241m.\u001b[39mshow()\n\u001b[0;32m     18\u001b[0m three_d \u001b[38;5;241m=\u001b[39m threedvector(\u001b[38;5;241m3\u001b[39m,\u001b[38;5;241m5\u001b[39m,\u001b[38;5;241m8\u001b[39m)\n",
      "Cell \u001b[1;32mIn[2], line 5\u001b[0m, in \u001b[0;36mtwodvector.__init__\u001b[1;34m(self, i, j)\u001b[0m\n\u001b[0;32m      3\u001b[0m \u001b[38;5;28mself\u001b[39m\u001b[38;5;241m.\u001b[39mi \u001b[38;5;241m=\u001b[39m i \n\u001b[0;32m      4\u001b[0m \u001b[38;5;28mself\u001b[39m\u001b[38;5;241m.\u001b[39mj \u001b[38;5;241m=\u001b[39m j \n\u001b[1;32m----> 5\u001b[0m \u001b[38;5;28mself\u001b[39m\u001b[38;5;241m.\u001b[39mk \u001b[38;5;241m=\u001b[39m \u001b[43mk\u001b[49m\n",
      "\u001b[1;31mNameError\u001b[0m: name 'k' is not defined"
     ]
    }
   ],
   "source": [
    "class twodvector :\n",
    "    def __init__(self, i,j):\n",
    "        self.i = i \n",
    "        self.j = j \n",
    "    def show(self):\n",
    "        print(f\"The vector representation are : {self.i}i +{self.j}j\")\n",
    "\n",
    "class threedvector(twodvector):\n",
    "    def __init__(self,i,j,k):\n",
    "        super().__init__(i,j)\n",
    "        self.k = k \n",
    "    def show(self):\n",
    "        print(f\"The vector representation are : {self.i}i +{self.j}j+ {self.k}k\")\n",
    "\n",
    "two_d = twodvector(3,4)\n",
    "two_d.show()\n",
    "three_d = threedvector(3,5,8)\n",
    "three_d.show()\n"
   ]
  }
 ],
 "metadata": {
  "kernelspec": {
   "display_name": "Python 3",
   "language": "python",
   "name": "python3"
  },
  "language_info": {
   "codemirror_mode": {
    "name": "ipython",
    "version": 3
   },
   "file_extension": ".py",
   "mimetype": "text/x-python",
   "name": "python",
   "nbconvert_exporter": "python",
   "pygments_lexer": "ipython3",
   "version": "3.11.4"
  }
 },
 "nbformat": 4,
 "nbformat_minor": 2
}
