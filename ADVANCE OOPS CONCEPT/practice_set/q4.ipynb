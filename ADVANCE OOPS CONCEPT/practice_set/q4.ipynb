{
 "cells": [
  {
   "cell_type": "code",
   "execution_count": 6,
   "metadata": {},
   "outputs": [
    {
     "name": "stdout",
     "output_type": "stream",
     "text": [
      "8 + 12i\n",
      "-20 + 46i\n"
     ]
    }
   ],
   "source": [
    "class Complex :\n",
    "    def __init__(self,r,i) :\n",
    "        self.r = r \n",
    "        self.i = i \n",
    "\n",
    "    def __add__(self,c2):\n",
    "        return Complex(self.r + c2.r , self.i +c2.i)\n",
    "    \n",
    "    def __mul__(self,c2):\n",
    "        real_part = self.r * c2.r - self.i * c2.i\n",
    "        imaginary_part = self.r * c2.i + self.i * c2.r\n",
    "        return Complex(real_part, imaginary_part)\n",
    "    \n",
    "    def __str__(self):\n",
    "        return f\"{self.r} + {self.i}i\"\n",
    "\n",
    "a = Complex(3,5)\n",
    "b = Complex(5,7)\n",
    "print(a+b)\n",
    "print(a*b)\n",
    "\n",
    "        "
   ]
  }
 ],
 "metadata": {
  "kernelspec": {
   "display_name": "Python 3",
   "language": "python",
   "name": "python3"
  },
  "language_info": {
   "codemirror_mode": {
    "name": "ipython",
    "version": 3
   },
   "file_extension": ".py",
   "mimetype": "text/x-python",
   "name": "python",
   "nbconvert_exporter": "python",
   "pygments_lexer": "ipython3",
   "version": "3.11.4"
  }
 },
 "nbformat": 4,
 "nbformat_minor": 2
}
