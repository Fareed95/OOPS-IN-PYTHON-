{
 "cells": [
  {
   "cell_type": "markdown",
   "metadata": {},
   "source": [
    "<h1> SINGLE INHERITANCE </h1>"
   ]
  },
  {
   "cell_type": "code",
   "execution_count": 11,
   "metadata": {},
   "outputs": [
    {
     "name": "stdout",
     "output_type": "stream",
     "text": [
      "THE CAR'S ENGINE STARTED\n"
     ]
    }
   ],
   "source": [
    "class Vechile():\n",
    "    engine_status = 'ENGINE STARTED'\n",
    "class Car(Vechile):\n",
    "    def start_engine(self):\n",
    "        print(f\"THE CAR'S {self.engine_status}\")\n",
    "\n",
    "innova = Car()\n",
    "innova.start_engine()"
   ]
  },
  {
   "cell_type": "markdown",
   "metadata": {},
   "source": [
    "<h1> MULTIPLE INHERITANCE </h1>"
   ]
  },
  {
   "cell_type": "code",
   "execution_count": 12,
   "metadata": {},
   "outputs": [
    {
     "name": "stdout",
     "output_type": "stream",
     "text": [
      "The HONDA's car ENGINE STARTED \n"
     ]
    }
   ],
   "source": [
    "class Vechilee():\n",
    "    engine_status = 'ENGINE STARTED'\n",
    "class Company():\n",
    "    company = 'HONDA'\n",
    "\n",
    "class Carr (Vechilee,Company):\n",
    "    def start_engine (self):\n",
    "        print(f\"The {self.company}'s car {self.engine_status} \")\n",
    "\n",
    "\n",
    "innova = Carr()\n",
    "innova.start_engine()"
   ]
  },
  {
   "cell_type": "code",
   "execution_count": null,
   "metadata": {},
   "outputs": [],
   "source": []
  }
 ],
 "metadata": {
  "kernelspec": {
   "display_name": "Python 3",
   "language": "python",
   "name": "python3"
  },
  "language_info": {
   "codemirror_mode": {
    "name": "ipython",
    "version": 3
   },
   "file_extension": ".py",
   "mimetype": "text/x-python",
   "name": "python",
   "nbconvert_exporter": "python",
   "pygments_lexer": "ipython3",
   "version": "3.11.4"
  }
 },
 "nbformat": 4,
 "nbformat_minor": 2
}
