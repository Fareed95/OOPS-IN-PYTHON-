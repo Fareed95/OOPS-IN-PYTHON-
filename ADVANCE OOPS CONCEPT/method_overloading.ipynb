{
 "cells": [
  {
   "cell_type": "code",
   "execution_count": 10,
   "metadata": {},
   "outputs": [
    {
     "name": "stdout",
     "output_type": "stream",
     "text": [
      "3\n",
      "5\n"
     ]
    },
    {
     "ename": "TypeError",
     "evalue": "int() argument must be a string, a bytes-like object or a real number, not 'Number'",
     "output_type": "error",
     "traceback": [
      "\u001b[1;31m---------------------------------------------------------------------------\u001b[0m",
      "\u001b[1;31mTypeError\u001b[0m                                 Traceback (most recent call last)",
      "Cell \u001b[1;32mIn[10], line 8\u001b[0m\n\u001b[0;32m      6\u001b[0m a \u001b[38;5;241m=\u001b[39m Number(\u001b[38;5;241m3\u001b[39m)\n\u001b[0;32m      7\u001b[0m b \u001b[38;5;241m=\u001b[39m Number(\u001b[38;5;241m5\u001b[39m)\n\u001b[1;32m----> 8\u001b[0m \u001b[38;5;28mprint\u001b[39m(\u001b[38;5;28;43mint\u001b[39;49m\u001b[43m(\u001b[49m\u001b[43ma\u001b[49m\u001b[43m)\u001b[49m\u001b[38;5;241m+\u001b[39m\u001b[38;5;28mint\u001b[39m(b))\n",
      "\u001b[1;31mTypeError\u001b[0m: int() argument must be a string, a bytes-like object or a real number, not 'Number'"
     ]
    }
   ],
   "source": [
    "class Number :\n",
    "    def __init__(self , n):\n",
    "        self.n = n \n",
    "        print(f\"{self.n}\")\n",
    "    \n",
    "a = Number(3)\n",
    "b = Number(5)\n",
    "print(int(a)+int(b))\n"
   ]
  },
  {
   "cell_type": "markdown",
   "metadata": {},
   "source": [
    "<h3> SO TO ADD OR DO ANY OTGHER FUNCTIONALITIES THERE ARE SOME OVERLOADING METHOD </H3>"
   ]
  },
  {
   "cell_type": "code",
   "execution_count": 16,
   "metadata": {},
   "outputs": [
    {
     "name": "stdout",
     "output_type": "stream",
     "text": [
      "8\n"
     ]
    }
   ],
   "source": [
    "class Numbers :\n",
    "    def __init__(self , n):\n",
    "        self.n = n \n",
    "        # print(f\"{self.n}\")\n",
    "    def __add__(self,num):\n",
    "        return self.n + num.n\n",
    "    \n",
    "a = Numbers(3)\n",
    "b = Numbers(5)\n",
    "print(a+b)\n"
   ]
  }
 ],
 "metadata": {
  "kernelspec": {
   "display_name": "Python 3",
   "language": "python",
   "name": "python3"
  },
  "language_info": {
   "codemirror_mode": {
    "name": "ipython",
    "version": 3
   },
   "file_extension": ".py",
   "mimetype": "text/x-python",
   "name": "python",
   "nbconvert_exporter": "python",
   "pygments_lexer": "ipython3",
   "version": "3.11.4"
  }
 },
 "nbformat": 4,
 "nbformat_minor": 2
}
