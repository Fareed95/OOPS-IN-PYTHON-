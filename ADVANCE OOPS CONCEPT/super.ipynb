{
 "cells": [
  {
   "cell_type": "code",
   "execution_count": 3,
   "metadata": {},
   "outputs": [
    {
     "name": "stdout",
     "output_type": "stream",
     "text": [
      "THIS AN EMPLOYEE CLASS\n",
      "THIS IS AN PROGRAMMER CLASS\n",
      "THIS IS AN MANAGER CLASS \n",
      "-----------------------------------------------------------\n",
      "THIS IS AND MANAGER EXHIBIT CLASS\n"
     ]
    }
   ],
   "source": [
    "class Employee :\n",
    "    def __init__(self):\n",
    "        print(\"THIS AN EMPLOYEE CLASS\")\n",
    "\n",
    "class Programmer(Employee) :\n",
    "    def __init__(self):\n",
    "        super().__init__()\n",
    "        print(\"THIS IS AN PROGRAMMER CLASS\")\n",
    "\n",
    "class Manager(Programmer):\n",
    "    def __init__ (self):\n",
    "        super().__init__()\n",
    "        print(\"THIS IS AN MANAGER CLASS \")\n",
    "\n",
    "    def exhibit(self):\n",
    "        print(\"THIS IS AND MANAGER EXHIBIT CLASS\")\n",
    "\n",
    "a = Manager()\n",
    "print(\"-----------------------------------------------------------\")\n",
    "a.exhibit()"
   ]
  }
 ],
 "metadata": {
  "kernelspec": {
   "display_name": "Python 3",
   "language": "python",
   "name": "python3"
  },
  "language_info": {
   "codemirror_mode": {
    "name": "ipython",
    "version": 3
   },
   "file_extension": ".py",
   "mimetype": "text/x-python",
   "name": "python",
   "nbconvert_exporter": "python",
   "pygments_lexer": "ipython3",
   "version": "3.11.4"
  }
 },
 "nbformat": 4,
 "nbformat_minor": 2
}
