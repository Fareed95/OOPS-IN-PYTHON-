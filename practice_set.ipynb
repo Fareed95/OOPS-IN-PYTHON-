{
 "cells": [
  {
   "cell_type": "markdown",
   "metadata": {},
   "source": [
    "<h1> PRACTICE SET </h1>"
   ]
  },
  {
   "cell_type": "markdown",
   "metadata": {},
   "source": [
    "Q1. CREATE A CLASS PROGRAMMER FO R STORING INFORMATION OF FFEW PROGRAMEER WORKING AT MICROSOFT\n"
   ]
  },
  {
   "cell_type": "code",
   "execution_count": 7,
   "metadata": {},
   "outputs": [
    {
     "name": "stdout",
     "output_type": "stream",
     "text": [
      "fareed of age 12 knows language python and works as backend-dev\n"
     ]
    }
   ],
   "source": [
    "class Programmers :\n",
    "    company = 'Microsoft'\n",
    "    def __init__(self,name,age,language,position) :\n",
    "        self.name = name \n",
    "        self.age = age\n",
    "        self.language = language\n",
    "        self.position = position\n",
    "    \n",
    "    def get_info(self):\n",
    "        print(f\"{self.name} of age {self.age} knows language {self.language} and works as {self.position}\")\n",
    "\n",
    "\n",
    "fareed = Programmers('fareed',12,'python','backend-dev')\n",
    "fareed.get_info()\n",
    "\n",
    "        "
   ]
  },
  {
   "cell_type": "markdown",
   "metadata": {},
   "source": [
    "Q2. CREATE A CLASS calculator CAPABLE OF FINING SQUARE,CUBE AND SQUARE ROOT OF A NUMBER AND MAKE A STATIC METHOD TO GREET THE USER \"HELLO\""
   ]
  },
  {
   "cell_type": "code",
   "execution_count": 8,
   "metadata": {},
   "outputs": [
    {
     "name": "stdout",
     "output_type": "stream",
     "text": [
      "HELLO HERE\n",
      "The square of number 9 is 81\n",
      "The cube of number 9 is 729\n",
      "The squareroot of number 9 is 3.0\n"
     ]
    }
   ],
   "source": [
    "from math import sqrt\n",
    "class calculator:\n",
    "    def __init__(self,number) :\n",
    "        self.number = number \n",
    "    def square(self):\n",
    "        print(f\"The square of number {self.number} is {self.number*self.number}\")\n",
    "    \n",
    "    def cube(self):\n",
    "        print(f\"The cube of number {self.number} is {self.number*self.number*self.number}\")\n",
    "    \n",
    "    def squareroot(self):\n",
    "        print(f\"The squareroot of number {self.number} is {sqrt(self.number)}\")\n",
    "    @staticmethod\n",
    "    def greet():\n",
    "        print('HELLO HERE')\n",
    "a = calculator(9)\n",
    "a.greet()\n",
    "a.square()\n",
    "a.cube()\n",
    "a.squareroot()"
   ]
  }
 ],
 "metadata": {
  "kernelspec": {
   "display_name": "Python 3",
   "language": "python",
   "name": "python3"
  },
  "language_info": {
   "codemirror_mode": {
    "name": "ipython",
    "version": 3
   },
   "file_extension": ".py",
   "mimetype": "text/x-python",
   "name": "python",
   "nbconvert_exporter": "python",
   "pygments_lexer": "ipython3",
   "version": "3.11.4"
  }
 },
 "nbformat": 4,
 "nbformat_minor": 2
}
