{
 "cells": [
  {
   "cell_type": "markdown",
   "id": "4f2c71ba-9de8-4cbc-a871-ee5512ff3778",
   "metadata": {},
   "source": [
    "<h1> OOPS IN PYTHON </h1>"
   ]
  },
  {
   "cell_type": "markdown",
   "id": "9860d3e8-4b2b-4b78-b22e-ec32a3a2791a",
   "metadata": {},
   "source": [
    "<H2>LESSON 1</H2> "
   ]
  },
  {
   "cell_type": "markdown",
   "id": "6af15fb8-c829-48fa-bf2d-7fe050fa27d8",
   "metadata": {},
   "source": [
    "THERE ARE TWO PARTS IN OOPS :"
   ]
  },
  {
   "cell_type": "markdown",
   "id": "a6e87c64-44c0-48e7-a10a-64be3707afd3",
   "metadata": {},
   "source": [
    "1. CLASS "
   ]
  },
  {
   "cell_type": "markdown",
   "id": "56c6bff3-4137-423d-b6c6-ea981c813a73",
   "metadata": {},
   "source": [
    "2. OBJECT\n",
    "   "
   ]
  },
  {
   "cell_type": "code",
   "execution_count": 20,
   "id": "97c81601-3026-493c-a7b8-8eb3c7bd96c1",
   "metadata": {},
   "outputs": [],
   "source": [
    "#TO DEFINE CLASS "
   ]
  },
  {
   "cell_type": "code",
   "execution_count": 21,
   "id": "3c22b5b0-a18e-4c8d-acb0-0d64a599c688",
   "metadata": {},
   "outputs": [],
   "source": [
    "class Employee :\n",
    "    name = 'Fareed'\n",
    "    language = 'python'\n",
    "    salary = 120000000"
   ]
  },
  {
   "cell_type": "code",
   "execution_count": 22,
   "id": "c334c32b-bfe2-4792-ba8d-3806b4c1f74c",
   "metadata": {},
   "outputs": [],
   "source": [
    "# to define object\n"
   ]
  },
  {
   "cell_type": "code",
   "execution_count": 23,
   "id": "8ca98516-ba94-4b8a-82b9-ccea7196f82c",
   "metadata": {},
   "outputs": [
    {
     "name": "stdout",
     "output_type": "stream",
     "text": [
      "Fareed\n"
     ]
    }
   ],
   "source": [
    "fareed = Employee()\n",
    "print(fareed.name)\n"
   ]
  },
  {
   "cell_type": "code",
   "execution_count": 24,
   "id": "019e5dfd-8609-4ef6-a770-b98dab94fbc9",
   "metadata": {},
   "outputs": [
    {
     "name": "stdout",
     "output_type": "stream",
     "text": [
      " language :python name : Fareed\n"
     ]
    }
   ],
   "source": [
    "var = Employee()\n",
    "print(f' language :{var.language} name : {var.name}')"
   ]
  },
  {
   "cell_type": "markdown",
   "id": "002a04e8-4d28-4e04-b6b4-d85d2f3f5c7f",
   "metadata": {},
   "source": [
    "noun ------> Class ----> EMPLOYEE"
   ]
  },
  {
   "cell_type": "markdown",
   "id": "6395ffe6-e2ec-4c40-b1bc-a605d0402e60",
   "metadata": {},
   "source": [
    "Adjective -----> Attributes ----> name , language , salary "
   ]
  },
  {
   "cell_type": "markdown",
   "id": "6813c9d6-27c9-497e-b045-a743b5618dff",
   "metadata": {},
   "source": [
    "VERBS ------> methods -----> getslary()"
   ]
  },
  {
   "cell_type": "code",
   "execution_count": 28,
   "id": "2060301a-43e6-461a-a55a-942d39d978b4",
   "metadata": {},
   "outputs": [],
   "source": [
    "#Instance attribute \n"
   ]
  },
  {
   "cell_type": "markdown",
   "id": "2062f303-c9f7-41e6-a366-f5392fa3c732",
   "metadata": {},
   "source": [
    "<h5> THIS IS WHEN.. WE DEFINE ANY NEW ADJECTIVE/ATTRIBUTES IN THE OBJECT </h5>"
   ]
  },
  {
   "cell_type": "code",
   "execution_count": 31,
   "id": "5f55d870-1d46-4eae-852b-8c3a5b1d822c",
   "metadata": {},
   "outputs": [
    {
     "name": "stdout",
     "output_type": "stream",
     "text": [
      "name = rohan\n",
      " language =python\n",
      " framework = flask\n",
      " salary = 120000000\n"
     ]
    }
   ],
   "source": [
    "rohan = Employee()\n",
    "rohan.framework = 'flask'   #instance attribute\n",
    "rohan.name = \"rohan\"\n",
    "\n",
    "print(f'name = {rohan.name}\\n language ={rohan.language}\\n framework = {rohan.framework}\\n salary = {rohan.salary}')"
   ]
  }
 ],
 "metadata": {
  "kernelspec": {
   "display_name": "Python 3 (ipykernel)",
   "language": "python",
   "name": "python3"
  },
  "language_info": {
   "codemirror_mode": {
    "name": "ipython",
    "version": 3
   },
   "file_extension": ".py",
   "mimetype": "text/x-python",
   "name": "python",
   "nbconvert_exporter": "python",
   "pygments_lexer": "ipython3",
   "version": "3.11.4"
  }
 },
 "nbformat": 4,
 "nbformat_minor": 5
}
